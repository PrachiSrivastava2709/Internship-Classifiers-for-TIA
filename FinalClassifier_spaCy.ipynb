{
 "cells": [
  {
   "cell_type": "code",
   "execution_count": 1,
   "id": "218dc301-db9f-4df7-8c0d-a95661755597",
   "metadata": {
    "tags": []
   },
   "outputs": [],
   "source": [
    "import spacy\n",
    "import pandas as pd\n",
    "from spacy.training import Example\n",
    "from spacy.tokens import DocBin\n",
    "#import random"
   ]
  },
  {
   "cell_type": "code",
   "execution_count": 2,
   "id": "84943b22-720d-46c7-9bfa-7c788e9627d8",
   "metadata": {
    "tags": []
   },
   "outputs": [],
   "source": [
    "# Load the Spacy English language model\n",
    "nlp = spacy.blank(\"en\")"
   ]
  },
  {
   "cell_type": "code",
   "execution_count": 3,
   "id": "2f306ad6-983c-442f-b3e3-9ae1cc8640b9",
   "metadata": {
    "tags": []
   },
   "outputs": [
    {
     "data": {
      "text/html": [
       "<div>\n",
       "<style scoped>\n",
       "    .dataframe tbody tr th:only-of-type {\n",
       "        vertical-align: middle;\n",
       "    }\n",
       "\n",
       "    .dataframe tbody tr th {\n",
       "        vertical-align: top;\n",
       "    }\n",
       "\n",
       "    .dataframe thead th {\n",
       "        text-align: right;\n",
       "    }\n",
       "</style>\n",
       "<table border=\"1\" class=\"dataframe\">\n",
       "  <thead>\n",
       "    <tr style=\"text-align: right;\">\n",
       "      <th></th>\n",
       "      <th>Topic</th>\n",
       "      <th>Question</th>\n",
       "    </tr>\n",
       "  </thead>\n",
       "  <tbody>\n",
       "    <tr>\n",
       "      <th>0</th>\n",
       "      <td>Interest</td>\n",
       "      <td>Find the SI for a sum of Rs.1200 at 5% pa for ...</td>\n",
       "    </tr>\n",
       "    <tr>\n",
       "      <th>1</th>\n",
       "      <td>Interest</td>\n",
       "      <td>If Rs.4000 becomes Rs.4560 in 2 years time, wh...</td>\n",
       "    </tr>\n",
       "    <tr>\n",
       "      <th>2</th>\n",
       "      <td>Interest</td>\n",
       "      <td>What principal would amount to Rs.8880 in 4 yr...</td>\n",
       "    </tr>\n",
       "    <tr>\n",
       "      <th>3</th>\n",
       "      <td>Interest</td>\n",
       "      <td>What sum would amount to Rs.26620 in 3 years a...</td>\n",
       "    </tr>\n",
       "    <tr>\n",
       "      <th>4</th>\n",
       "      <td>Interest</td>\n",
       "      <td>If a certain sum doubles itself in 3 yrs under...</td>\n",
       "    </tr>\n",
       "  </tbody>\n",
       "</table>\n",
       "</div>"
      ],
      "text/plain": [
       "      Topic                                           Question\n",
       "0  Interest  Find the SI for a sum of Rs.1200 at 5% pa for ...\n",
       "1  Interest  If Rs.4000 becomes Rs.4560 in 2 years time, wh...\n",
       "2  Interest  What principal would amount to Rs.8880 in 4 yr...\n",
       "3  Interest  What sum would amount to Rs.26620 in 3 years a...\n",
       "4  Interest  If a certain sum doubles itself in 3 yrs under..."
      ]
     },
     "execution_count": 3,
     "metadata": {},
     "output_type": "execute_result"
    }
   ],
   "source": [
    "# Load the dataset\n",
    "data = pd.read_csv('Dataset2.csv', sep='\\t')\n",
    "data.head()"
   ]
  },
  {
   "cell_type": "code",
   "execution_count": 4,
   "id": "cd35ba80-9e3d-41ad-abfa-d3fdbd9e8625",
   "metadata": {
    "tags": []
   },
   "outputs": [],
   "source": [
    "# Define the categories\n",
    "categories = data['Topic'].unique()"
   ]
  },
  {
   "cell_type": "code",
   "execution_count": 5,
   "id": "ea4cec11-78b4-4a13-bd35-5807b48a8d1c",
   "metadata": {
    "tags": []
   },
   "outputs": [],
   "source": [
    "# Create the text categorizer pipe for the Spacy model\n",
    "textcat = nlp.add_pipe(\"textcat\")"
   ]
  },
  {
   "cell_type": "code",
   "execution_count": 6,
   "id": "a874b72f-0519-421e-8c8d-f3933d0c5ec4",
   "metadata": {
    "tags": []
   },
   "outputs": [],
   "source": [
    "# Add the categories to the text categorizer\n",
    "for category in categories:\n",
    "    textcat.add_label(category)"
   ]
  },
  {
   "cell_type": "code",
   "execution_count": 7,
   "id": "90698f21-d810-403d-9282-b5094a59eb06",
   "metadata": {
    "tags": []
   },
   "outputs": [],
   "source": [
    "#Train-test splitting Data\n",
    "from sklearn.model_selection import train_test_split\n",
    "train, test = train_test_split(data, test_size=0.2)"
   ]
  },
  {
   "cell_type": "code",
   "execution_count": 8,
   "id": "bdf947a3-4371-4eae-8099-40e1c4ba47aa",
   "metadata": {
    "tags": []
   },
   "outputs": [],
   "source": [
    "# Convert the training data to binary format\n",
    "doc_bin = DocBin()\n",
    "for i, row in data.iterrows():\n",
    "    text = row['Question']\n",
    "    labels = {category: False for category in categories}\n",
    "    labels[row['Topic']] = True\n",
    "    example = Example.from_dict(nlp.make_doc(text), {\"cats\": labels})\n",
    "    doc_bin.add(example.reference)"
   ]
  },
  {
   "cell_type": "code",
   "execution_count": 9,
   "id": "0b8cab8b-9e9b-4816-b528-ef59949f9ccd",
   "metadata": {
    "tags": []
   },
   "outputs": [],
   "source": [
    "# Train the text categorizer\n",
    "from spacy.util import minibatch, compounding\n",
    "train_data = list(doc_bin.get_docs(nlp.vocab))\n",
    "train_examples = []\n",
    "for doc in train_data:\n",
    "    labels = doc.cats\n",
    "    example = Example.from_dict(doc, {\"cats\": labels})\n",
    "    train_examples.append(example)"
   ]
  },
  {
   "cell_type": "code",
   "execution_count": 10,
   "id": "53075c74-226b-4ba8-b2ef-10a02c936e7d",
   "metadata": {
    "tags": []
   },
   "outputs": [
    {
     "name": "stdout",
     "output_type": "stream",
     "text": [
      "Iteration: 0 Loss: {'textcat': 24.101316671945824}\n",
      "Iteration: 1 Loss: {'textcat': 20.869784751361294}\n",
      "Iteration: 2 Loss: {'textcat': 16.08329890866264}\n",
      "Iteration: 3 Loss: {'textcat': 11.779037682756563}\n",
      "Iteration: 4 Loss: {'textcat': 7.708939827541291}\n",
      "Iteration: 5 Loss: {'textcat': 6.1071826527754745}\n",
      "Iteration: 6 Loss: {'textcat': 4.097899364912303}\n",
      "Iteration: 7 Loss: {'textcat': 3.309834903419296}\n",
      "Iteration: 8 Loss: {'textcat': 2.666326805570109}\n",
      "Iteration: 9 Loss: {'textcat': 2.001630595595283}\n"
     ]
    }
   ],
   "source": [
    "n_iter = 10\n",
    "batch_size = 4\n",
    "learn_rate = 0.001\n",
    "dropout = 0.2\n",
    "optimizer = nlp.initialize(lambda: train_examples)\n",
    "for i in range(n_iter):\n",
    "    # random.shuffle(train_examples)\n",
    "    losses = {}\n",
    "    batches = minibatch(train_examples, size =compounding(batch_size, 32, 1.001))\n",
    "    for batch in batches:\n",
    "        nlp.update(batch, sgd=optimizer, drop=dropout, losses=losses)\n",
    "    print(\"Iteration:\", i, \"Loss:\", losses)"
   ]
  },
  {
   "cell_type": "code",
   "execution_count": 18,
   "id": "52c964fa-14d4-4299-b0b4-f1ad43a0bb82",
   "metadata": {},
   "outputs": [],
   "source": [
    "#Testing the text-categorizer\n",
    "test_data, test_labels = [], []\n",
    "for i, row in test.iterrows():\n",
    "    test_data.append(row[\"Question\"])\n",
    "    test_labels.append(row['Topic'])"
   ]
  },
  {
   "cell_type": "code",
   "execution_count": 19,
   "id": "99d925a9-003c-4804-b028-56935c9a1fc7",
   "metadata": {},
   "outputs": [],
   "source": [
    "predicted = []\n",
    "for text in test_data:\n",
    "    doc = nlp(text)\n",
    "    predicted.append(max(doc.cats, key=doc.cats.get))"
   ]
  },
  {
   "cell_type": "code",
   "execution_count": 22,
   "id": "45e8e15f-7684-4c28-a149-41124d3d5e71",
   "metadata": {
    "tags": []
   },
   "outputs": [
    {
     "name": "stdout",
     "output_type": "stream",
     "text": [
      "0.9551569506726457\n"
     ]
    }
   ],
   "source": [
    "#Evaluation: Accuracy\n",
    "score = 0\n",
    "for actual, predict in zip(test_labels, predicted):\n",
    "    #print(actual, predict)\n",
    "    if actual == predict:\n",
    "        score += 1\n",
    "print(score / len(test_labels))"
   ]
  },
  {
   "cell_type": "code",
   "execution_count": null,
   "id": "bf41d6f3-684f-44a2-be0c-43fe94733065",
   "metadata": {},
   "outputs": [],
   "source": []
  },
  {
   "cell_type": "code",
   "execution_count": null,
   "id": "658322e5-fc3b-4683-ba2b-a7ca7bd65649",
   "metadata": {},
   "outputs": [],
   "source": []
  },
  {
   "cell_type": "code",
   "execution_count": 10,
   "id": "d5c9acd9-ed23-4630-9bc2-d64b059ddb3c",
   "metadata": {
    "tags": []
   },
   "outputs": [
    {
     "name": "stdout",
     "output_type": "stream",
     "text": [
      "A man rides his bicycle for 45 min to cover a distance of 21 km. Find the speed at which he drives his bicycle ? {'Interest': 1.351735257060227e-08, 'Time and Distance': 0.9999959468841553, 'Time and Work': 3.957003173127305e-06, 'Profit & Loss': 9.940904766025938e-10, 'Partnerships': 1.230486823544652e-09, 'Averages': 7.564062798337545e-08, 'Ratios & Proportions': 5.551119119928671e-09, 'Probability': 2.9690188085851332e-08, 'Ages': 6.943558922278825e-11, 'Permutations & Combinations': 8.87945006411428e-09}\n",
      "What is the highest mountain in the world? {'Interest': 0.09256020188331604, 'Time and Distance': 5.7360184655408375e-06, 'Time and Work': 0.020992867648601532, 'Profit & Loss': 0.3195217549800873, 'Partnerships': 1.347855118183361e-06, 'Averages': 8.777660696068779e-06, 'Ratios & Proportions': 0.01123235933482647, 'Probability': 0.5501468181610107, 'Ages': 0.005297920200973749, 'Permutations & Combinations': 0.00023231450177263469}\n"
     ]
    }
   ],
   "source": [
    "# Test the text categorizer\n",
    "test_data = [\"A man rides his bicycle for 45 min to cover a distance of 21 km. Find the speed at which he drives his bicycle ?\", \"What is the highest mountain in the world?\"]\n",
    "for text in test_data:\n",
    "    doc = nlp(text)\n",
    "    print(text, doc.cats)"
   ]
  },
  {
   "cell_type": "code",
   "execution_count": null,
   "id": "460636ab-968f-4968-a591-b938cc73f511",
   "metadata": {},
   "outputs": [],
   "source": [
    "test_data = [\"A man rides his bicycle for 45 min to cover a distance of 21 km. Find the speed at which he drives his bicycle ?\", \"From a group of 7 men and 6 women, five persons are to be selected to form a committee so that at least 3 men are there on the committee. In how many ways can it be done?\"]\n",
    "for idx, text in enumerate(test_data):\n",
    "    doc = nlp(text)\n",
    "    print(f\"Question-{idx+1}: {text}\")\n",
    "    print()\n",
    "    pred_topic = max(doc.cats, key=doc.cats.get)\n",
    "    print(f\"Prediction: {pred_topic}\")\n",
    "    print()\n",
    "    print(\"=\"*150)\n",
    "    print()"
   ]
  }
 ],
 "metadata": {
  "kernelspec": {
   "display_name": "Python 3 (ipykernel)",
   "language": "python",
   "name": "python3"
  },
  "language_info": {
   "codemirror_mode": {
    "name": "ipython",
    "version": 3
   },
   "file_extension": ".py",
   "mimetype": "text/x-python",
   "name": "python",
   "nbconvert_exporter": "python",
   "pygments_lexer": "ipython3",
   "version": "3.10.2"
  }
 },
 "nbformat": 4,
 "nbformat_minor": 5
}
