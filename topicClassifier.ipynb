{
 "cells": [
  {
   "cell_type": "code",
   "execution_count": null,
   "id": "2db8f65f-cc8d-4be5-a32a-a21d9d7a7821",
   "metadata": {},
   "outputs": [],
   "source": [
    "import pandas as pd\n",
    "import csv"
   ]
  },
  {
   "cell_type": "code",
   "execution_count": null,
   "id": "b1bd6f41-71f0-4476-945f-1fc1d779c9ca",
   "metadata": {},
   "outputs": [],
   "source": [
    "data = []\n",
    "with open('Dataset/Data.csv') as csvfile:\n",
    "    spamreader = csv.reader(csvfile)\n",
    "    for row in spamreader:\n",
    "        data.append(row[0].split('|++|'))\n",
    "data = pd.DataFrame(data, columns=['id', 'id', 'subjectName', 'topicName', 'chapterName', 'levelDescription', 'Question', 'Answer'])  "
   ]
  },
  {
   "cell_type": "code",
   "execution_count": null,
   "id": "1e447eed-61ff-485a-b045-bf484568f57f",
   "metadata": {},
   "outputs": [],
   "source": [
    "data = data.dropna()"
   ]
  },
  {
   "cell_type": "code",
   "execution_count": null,
   "id": "f9b066b0-94dd-4fef-9df5-8b2c11ddc39d",
   "metadata": {},
   "outputs": [],
   "source": [
    "data = data.iloc[:, [False, False, False, True, False, False, True, False]]"
   ]
  },
  {
   "cell_type": "code",
   "execution_count": null,
   "id": "3524075d-8429-4467-b8dd-d7dd813e325a",
   "metadata": {},
   "outputs": [],
   "source": [
    "import spacy\n",
    "from spacy.training import Example\n",
    "from spacy.tokens import DocBin"
   ]
  },
  {
   "cell_type": "code",
   "execution_count": null,
   "id": "5e4f07bd-8e74-4947-934c-02eb16d8f589",
   "metadata": {},
   "outputs": [],
   "source": [
    "nlp = spacy.blank(\"en\")\n",
    "categories = data['topicName'].unique()\n",
    "textcat = nlp.add_pipe(\"textcat\")\n"
   ]
  },
  {
   "cell_type": "code",
   "execution_count": null,
   "id": "df87b9fb-80a1-4795-8be4-5fe4e1947a5c",
   "metadata": {},
   "outputs": [],
   "source": [
    "for category in categories:\n",
    "    textcat.add_label(category)"
   ]
  },
  {
   "cell_type": "code",
   "execution_count": null,
   "id": "e6a47ffd-2816-4f6b-a50d-93c52276c762",
   "metadata": {},
   "outputs": [],
   "source": [
    "from sklearn.model_selection import train_test_split\n",
    "train, test = train_test_split(data, test_size=0.2)"
   ]
  },
  {
   "cell_type": "code",
   "execution_count": null,
   "id": "a7ac0757-46c9-4f94-9e21-043dd0c3d758",
   "metadata": {},
   "outputs": [],
   "source": [
    "doc_bin = DocBin()\n",
    "for i, row in data.iterrows():\n",
    "    text = row['Question']\n",
    "    labels = {category: False for category in categories}\n",
    "    labels[row['subjectName']] = True\n",
    "    example = Example.from_dict(nlp.make_doc(text), {\"cats\": labels})\n",
    "    doc_bin.add(example.reference)"
   ]
  },
  {
   "cell_type": "code",
   "execution_count": null,
   "id": "9a2291fb-cf37-471b-b9d5-8461f7c674d5",
   "metadata": {},
   "outputs": [],
   "source": [
    "from spacy.util import minibatch, compounding\n",
    "train_data = list(doc_bin.get_docs(nlp.vocab))\n",
    "train_examples = []\n",
    "for doc in train_data:\n",
    "    labels = doc.cats\n",
    "    example = Example.from_dict(doc, {\"cats\": labels})\n",
    "    train_examples.append(example)"
   ]
  },
  {
   "cell_type": "code",
   "execution_count": null,
   "id": "b728f839-f0fc-478e-9c26-a9ac71cb4d83",
   "metadata": {},
   "outputs": [],
   "source": [
    "n_iter = 10\n",
    "batch_size = 4\n",
    "learn_rate = 0.001\n",
    "dropout = 0.2\n",
    "optimizer = nlp.initialize(lambda: train_examples)\n",
    "for i in range(n_iter):\n",
    "    losses = {}\n",
    "    batches = minibatch(train_examples, size =compounding(batch_size, 32, 1.001))\n",
    "    for batch in batches:\n",
    "        nlp.update(batch, sgd=optimizer, drop=dropout, losses=losses)\n",
    "    print(\"Iteration:\", i, \"Loss:\", losses)"
   ]
  },
  {
   "cell_type": "code",
   "execution_count": null,
   "id": "d81d528e-eb21-4c04-b8eb-49eab16102b6",
   "metadata": {},
   "outputs": [],
   "source": [
    "test_data, test_labels = [], []\n",
    "for i, row in test.iterrows():\n",
    "    test_data.append(row[\"Question\"])\n",
    "    test_labels.append(row['topicName'])"
   ]
  },
  {
   "cell_type": "code",
   "execution_count": null,
   "id": "e9b665f9-31d2-4fce-9a75-99bda0550551",
   "metadata": {},
   "outputs": [],
   "source": [
    "predicted = []\n",
    "for text in test_data:\n",
    "    doc = nlp(text)\n",
    "    predicted.append(max(doc.cats, key=doc.cats.get))"
   ]
  },
  {
   "cell_type": "code",
   "execution_count": null,
   "id": "a2790daa-8910-4a6a-97d8-159387894188",
   "metadata": {},
   "outputs": [],
   "source": [
    "score = 0\n",
    "for actual, predict in zip(test_labels, predicted):\n",
    "    if actual == predict:\n",
    "        score += 1\n",
    "print(score / len(test_labels))"
   ]
  }
 ],
 "metadata": {
  "kernelspec": {
   "display_name": "Python 3 (ipykernel)",
   "language": "python",
   "name": "python3"
  },
  "language_info": {
   "codemirror_mode": {
    "name": "ipython",
    "version": 3
   },
   "file_extension": ".py",
   "mimetype": "text/x-python",
   "name": "python",
   "nbconvert_exporter": "python",
   "pygments_lexer": "ipython3",
   "version": "3.10.2"
  }
 },
 "nbformat": 4,
 "nbformat_minor": 5
}
